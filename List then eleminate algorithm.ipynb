{
 "cells": [
  {
   "cell_type": "markdown",
   "id": "a4c7e24d",
   "metadata": {},
   "source": [
    "List then eleminate algorithm"
   ]
  },
  {
   "cell_type": "code",
   "execution_count": 2,
   "id": "881085c4",
   "metadata": {},
   "outputs": [
    {
     "name": "stdout",
     "output_type": "stream",
     "text": [
      "     sky air temp humidity    wind water fourcast enjoy spot\n",
      "0  sunny     warm   normal  strong  warm     same        yes\n",
      "1  sunny     warm     high  strong  warm     same        yes\n",
      "2  Rainy     cold     high  strong  warm   change         no\n",
      "3  sunny     warm     high  strong  cold   change        yes\n"
     ]
    }
   ],
   "source": [
    "import pandas as pd\n",
    "data = pd.read_csv(\"enjoysport.csv\")\n",
    "data.head(10)\n",
    "print (data)\n",
    "\n",
    "def package_hypothesis(hypothesis, outcome):\n",
    "    ln = dict()\n",
    "    ln['hypothesis'] = hypothesis\n",
    "    ln['outcome'] = outcome\n",
    "    return ln\n",
    "\n",
    "#Test hypothesises\n",
    "h1 = package_hypothesis([\"?\",\"?\",\"normal\",\"?\",\"?\"],\"yes\")\n",
    "h2 = package_hypothesis([\"sunny\",\"high\",\"?\",\"?\",\"?\"],\"yes\")\n",
    "h3 = package_hypothesis([\"rainy\",\"?\",\"ok\",\"?\",\"?\"],\"no\")\n",
    "h4 = package_hypothesis([\"rainy\",\"warm\",\"high\",\"?\",\"?\"],\"yes\")\n",
    "h5 = package_hypothesis([\"?\",\"cold\",\"?\",\"cool\",\"?\"],\"no\")\n",
    "h6 = package_hypothesis([\"?\",\"?\",\"?\",\"cool\",\"?\"],\"yes\")"
   ]
  },
  {
   "cell_type": "code",
   "execution_count": 3,
   "id": "3561128a",
   "metadata": {},
   "outputs": [],
   "source": [
    "def compare(values, hypo):\n",
    "    for i in range(len(values)):\n",
    "        if(hypo[i] != \"?\"):\n",
    "            if(values[i] != hypo[i]):\n",
    "                return False\n",
    "            return True"
   ]
  },
  {
   "cell_type": "code",
   "execution_count": 4,
   "id": "d48b7f21",
   "metadata": {},
   "outputs": [
    {
     "name": "stdout",
     "output_type": "stream",
     "text": [
      "([{'hypothesis': ['?', '?', 'normal', '?', '?'], 'outcome': 'yes'}, {'hypothesis': ['rainy', '?', 'ok', '?', '?'], 'outcome': 'no'}, {'hypothesis': ['rainy', 'warm', 'high', '?', '?'], 'outcome': 'yes'}, {'hypothesis': ['?', '?', '?', 'cool', '?'], 'outcome': 'yes'}], [{'hypothesis': ['?', '?', 'normal', '?', '?'], 'outcome': 'yes'}, {'hypothesis': ['sunny', 'high', '?', '?', '?'], 'outcome': 'yes'}, {'hypothesis': ['sunny', 'high', '?', '?', '?'], 'outcome': 'yes'}, {'hypothesis': ['sunny', 'high', '?', '?', '?'], 'outcome': 'yes'}, {'hypothesis': ['sunny', 'high', '?', '?', '?'], 'outcome': 'yes'}, {'hypothesis': ['rainy', '?', 'ok', '?', '?'], 'outcome': 'no'}, {'hypothesis': ['rainy', '?', 'ok', '?', '?'], 'outcome': 'no'}, {'hypothesis': ['?', 'cold', '?', 'cool', '?'], 'outcome': 'no'}, {'hypothesis': ['?', 'cold', '?', 'cool', '?'], 'outcome': 'no'}, {'hypothesis': ['?', 'cold', '?', 'cool', '?'], 'outcome': 'no'}, {'hypothesis': ['?', 'cold', '?', 'cool', '?'], 'outcome': 'no'}])\n"
     ]
    }
   ],
   "source": [
    "def list_then_eliminate(data, *hypothesis):\n",
    "    consistent_space = []\n",
    "    inconsistent_space = []\n",
    "    \n",
    "    for hyp in hypothesis:\n",
    "        state = True\n",
    "        for i in range(data.shape[0]):\n",
    "            if(hyp['outcome'] == data.iloc[i,-1]):\n",
    "                if( not compare(hypo = hyp['hypothesis'], values = list(data.iloc[i,:-1])[:-1])):\n",
    "                    inconsistent_space.append(hyp) \n",
    "                    state = False\n",
    "                    break\n",
    "            if(state):\n",
    "                consistent_space.append(hyp)\n",
    "    return (inconsistent_space, consistent_space)\n",
    " \n",
    "print (list_then_eliminate(data, h1,h2,h3,h4,h5,h6))"
   ]
  },
  {
   "cell_type": "code",
   "execution_count": 5,
   "id": "79ea36c7",
   "metadata": {},
   "outputs": [
    {
     "data": {
      "text/html": [
       "<div>\n",
       "<style scoped>\n",
       "    .dataframe tbody tr th:only-of-type {\n",
       "        vertical-align: middle;\n",
       "    }\n",
       "\n",
       "    .dataframe tbody tr th {\n",
       "        vertical-align: top;\n",
       "    }\n",
       "\n",
       "    .dataframe thead th {\n",
       "        text-align: right;\n",
       "    }\n",
       "</style>\n",
       "<table border=\"1\" class=\"dataframe\">\n",
       "  <thead>\n",
       "    <tr style=\"text-align: right;\">\n",
       "      <th></th>\n",
       "      <th>sky</th>\n",
       "      <th>air temp</th>\n",
       "      <th>humidity</th>\n",
       "      <th>wind</th>\n",
       "      <th>water</th>\n",
       "      <th>fourcast</th>\n",
       "      <th>enjoy spot</th>\n",
       "    </tr>\n",
       "  </thead>\n",
       "  <tbody>\n",
       "    <tr>\n",
       "      <th>count</th>\n",
       "      <td>4</td>\n",
       "      <td>4</td>\n",
       "      <td>4</td>\n",
       "      <td>4</td>\n",
       "      <td>4</td>\n",
       "      <td>4</td>\n",
       "      <td>4</td>\n",
       "    </tr>\n",
       "    <tr>\n",
       "      <th>unique</th>\n",
       "      <td>2</td>\n",
       "      <td>2</td>\n",
       "      <td>2</td>\n",
       "      <td>1</td>\n",
       "      <td>2</td>\n",
       "      <td>2</td>\n",
       "      <td>2</td>\n",
       "    </tr>\n",
       "    <tr>\n",
       "      <th>top</th>\n",
       "      <td>sunny</td>\n",
       "      <td>warm</td>\n",
       "      <td>high</td>\n",
       "      <td>strong</td>\n",
       "      <td>warm</td>\n",
       "      <td>same</td>\n",
       "      <td>yes</td>\n",
       "    </tr>\n",
       "    <tr>\n",
       "      <th>freq</th>\n",
       "      <td>3</td>\n",
       "      <td>3</td>\n",
       "      <td>3</td>\n",
       "      <td>4</td>\n",
       "      <td>3</td>\n",
       "      <td>2</td>\n",
       "      <td>3</td>\n",
       "    </tr>\n",
       "  </tbody>\n",
       "</table>\n",
       "</div>"
      ],
      "text/plain": [
       "          sky air temp humidity    wind water fourcast enjoy spot\n",
       "count       4        4        4       4     4        4          4\n",
       "unique      2        2        2       1     2        2          2\n",
       "top     sunny     warm     high  strong  warm     same        yes\n",
       "freq        3        3        3       4     3        2          3"
      ]
     },
     "execution_count": 5,
     "metadata": {},
     "output_type": "execute_result"
    }
   ],
   "source": [
    "data.describe()"
   ]
  },
  {
   "cell_type": "code",
   "execution_count": 6,
   "id": "a331b780",
   "metadata": {},
   "outputs": [
    {
     "data": {
      "text/html": [
       "<div>\n",
       "<style scoped>\n",
       "    .dataframe tbody tr th:only-of-type {\n",
       "        vertical-align: middle;\n",
       "    }\n",
       "\n",
       "    .dataframe tbody tr th {\n",
       "        vertical-align: top;\n",
       "    }\n",
       "\n",
       "    .dataframe thead th {\n",
       "        text-align: right;\n",
       "    }\n",
       "</style>\n",
       "<table border=\"1\" class=\"dataframe\">\n",
       "  <thead>\n",
       "    <tr style=\"text-align: right;\">\n",
       "      <th></th>\n",
       "      <th>sky</th>\n",
       "      <th>air temp</th>\n",
       "      <th>humidity</th>\n",
       "      <th>wind</th>\n",
       "      <th>water</th>\n",
       "      <th>fourcast</th>\n",
       "      <th>enjoy spot</th>\n",
       "    </tr>\n",
       "  </thead>\n",
       "  <tbody>\n",
       "    <tr>\n",
       "      <th>0</th>\n",
       "      <td>sunny</td>\n",
       "      <td>warm</td>\n",
       "      <td>normal</td>\n",
       "      <td>strong</td>\n",
       "      <td>warm</td>\n",
       "      <td>same</td>\n",
       "      <td>yes</td>\n",
       "    </tr>\n",
       "    <tr>\n",
       "      <th>1</th>\n",
       "      <td>sunny</td>\n",
       "      <td>warm</td>\n",
       "      <td>high</td>\n",
       "      <td>strong</td>\n",
       "      <td>warm</td>\n",
       "      <td>same</td>\n",
       "      <td>yes</td>\n",
       "    </tr>\n",
       "    <tr>\n",
       "      <th>2</th>\n",
       "      <td>Rainy</td>\n",
       "      <td>cold</td>\n",
       "      <td>high</td>\n",
       "      <td>strong</td>\n",
       "      <td>warm</td>\n",
       "      <td>change</td>\n",
       "      <td>no</td>\n",
       "    </tr>\n",
       "    <tr>\n",
       "      <th>3</th>\n",
       "      <td>sunny</td>\n",
       "      <td>warm</td>\n",
       "      <td>high</td>\n",
       "      <td>strong</td>\n",
       "      <td>cold</td>\n",
       "      <td>change</td>\n",
       "      <td>yes</td>\n",
       "    </tr>\n",
       "  </tbody>\n",
       "</table>\n",
       "</div>"
      ],
      "text/plain": [
       "     sky air temp humidity    wind water fourcast enjoy spot\n",
       "0  sunny     warm   normal  strong  warm     same        yes\n",
       "1  sunny     warm     high  strong  warm     same        yes\n",
       "2  Rainy     cold     high  strong  warm   change         no\n",
       "3  sunny     warm     high  strong  cold   change        yes"
      ]
     },
     "execution_count": 6,
     "metadata": {},
     "output_type": "execute_result"
    }
   ],
   "source": [
    "data.head()"
   ]
  },
  {
   "cell_type": "code",
   "execution_count": 7,
   "id": "1f68ddcb",
   "metadata": {},
   "outputs": [
    {
     "data": {
      "text/html": [
       "<div>\n",
       "<style scoped>\n",
       "    .dataframe tbody tr th:only-of-type {\n",
       "        vertical-align: middle;\n",
       "    }\n",
       "\n",
       "    .dataframe tbody tr th {\n",
       "        vertical-align: top;\n",
       "    }\n",
       "\n",
       "    .dataframe thead th {\n",
       "        text-align: right;\n",
       "    }\n",
       "</style>\n",
       "<table border=\"1\" class=\"dataframe\">\n",
       "  <thead>\n",
       "    <tr style=\"text-align: right;\">\n",
       "      <th></th>\n",
       "      <th>sky</th>\n",
       "      <th>air temp</th>\n",
       "      <th>humidity</th>\n",
       "      <th>wind</th>\n",
       "      <th>water</th>\n",
       "      <th>fourcast</th>\n",
       "      <th>enjoy spot</th>\n",
       "    </tr>\n",
       "  </thead>\n",
       "  <tbody>\n",
       "    <tr>\n",
       "      <th>0</th>\n",
       "      <td>sunny</td>\n",
       "      <td>warm</td>\n",
       "      <td>normal</td>\n",
       "      <td>strong</td>\n",
       "      <td>warm</td>\n",
       "      <td>same</td>\n",
       "      <td>yes</td>\n",
       "    </tr>\n",
       "    <tr>\n",
       "      <th>1</th>\n",
       "      <td>sunny</td>\n",
       "      <td>warm</td>\n",
       "      <td>high</td>\n",
       "      <td>strong</td>\n",
       "      <td>warm</td>\n",
       "      <td>same</td>\n",
       "      <td>yes</td>\n",
       "    </tr>\n",
       "    <tr>\n",
       "      <th>2</th>\n",
       "      <td>Rainy</td>\n",
       "      <td>cold</td>\n",
       "      <td>high</td>\n",
       "      <td>strong</td>\n",
       "      <td>warm</td>\n",
       "      <td>change</td>\n",
       "      <td>no</td>\n",
       "    </tr>\n",
       "    <tr>\n",
       "      <th>3</th>\n",
       "      <td>sunny</td>\n",
       "      <td>warm</td>\n",
       "      <td>high</td>\n",
       "      <td>strong</td>\n",
       "      <td>cold</td>\n",
       "      <td>change</td>\n",
       "      <td>yes</td>\n",
       "    </tr>\n",
       "  </tbody>\n",
       "</table>\n",
       "</div>"
      ],
      "text/plain": [
       "     sky air temp humidity    wind water fourcast enjoy spot\n",
       "0  sunny     warm   normal  strong  warm     same        yes\n",
       "1  sunny     warm     high  strong  warm     same        yes\n",
       "2  Rainy     cold     high  strong  warm   change         no\n",
       "3  sunny     warm     high  strong  cold   change        yes"
      ]
     },
     "execution_count": 7,
     "metadata": {},
     "output_type": "execute_result"
    }
   ],
   "source": [
    "data.tail()"
   ]
  },
  {
   "cell_type": "code",
   "execution_count": null,
   "id": "32ced5aa",
   "metadata": {},
   "outputs": [],
   "source": []
  }
 ],
 "metadata": {
  "kernelspec": {
   "display_name": "Python 3 (ipykernel)",
   "language": "python",
   "name": "python3"
  },
  "language_info": {
   "codemirror_mode": {
    "name": "ipython",
    "version": 3
   },
   "file_extension": ".py",
   "mimetype": "text/x-python",
   "name": "python",
   "nbconvert_exporter": "python",
   "pygments_lexer": "ipython3",
   "version": "3.11.4"
  }
 },
 "nbformat": 4,
 "nbformat_minor": 5
}
