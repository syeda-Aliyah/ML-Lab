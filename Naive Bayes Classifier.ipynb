{
 "cells": [
  {
   "cell_type": "markdown",
   "id": "65264933",
   "metadata": {},
   "source": [
    "Naive Bayes Classifier"
   ]
  },
  {
   "cell_type": "code",
   "execution_count": 1,
   "id": "ded11af7",
   "metadata": {},
   "outputs": [],
   "source": [
    "import pandas as pd\n",
    "from sklearn.model_selection import train_test_split\n",
    "from sklearn.naive_bayes import GaussianNB\n",
    "from sklearn import metrics"
   ]
  },
  {
   "cell_type": "code",
   "execution_count": 2,
   "id": "9c9cd8cc",
   "metadata": {},
   "outputs": [],
   "source": [
    "df = pd.read_csv(\"pima_indian.csv\")\n",
    "feature_col_names = ['num_preg', 'glucose_conc', 'diastolic_bp', 'thickness', 'insulin', 'bmi', 'diab_pred', 'age']\n",
    "predicted_class_names = ['diabetes']\n",
    "X = df[feature_col_names].values # these are factors for the prediction\n",
    "y = df[predicted_class_names].values # this is what we want to predict"
   ]
  },
  {
   "cell_type": "code",
   "execution_count": 3,
   "id": "7f0cbbd4",
   "metadata": {},
   "outputs": [
    {
     "name": "stdout",
     "output_type": "stream",
     "text": [
      "\n",
      " the total number of Training Data : (514, 1)\n",
      "\n",
      " the total number of Test Data : (254, 1)\n"
     ]
    }
   ],
   "source": [
    "#splitting the dataset into train and test data\n",
    "xtrain,xtest,ytrain,ytest=train_test_split(X,y,test_size=0.33)\n",
    "print ('\\n the total number of Training Data :',ytrain.shape)\n",
    "print ('\\n the total number of Test Data :',ytest.shape)\n",
    "# Training Naive Bayes (NB) classifier on training data.\n",
    "clf = GaussianNB().fit(xtrain,ytrain.ravel())\n",
    "predicted = clf.predict(xtest)\n",
    "predictTestData= clf.predict([[6,148,72,35,0,33.6,0.627,50]])"
   ]
  },
  {
   "cell_type": "code",
   "execution_count": 4,
   "id": "0ae7f8b3",
   "metadata": {},
   "outputs": [
    {
     "name": "stdout",
     "output_type": "stream",
     "text": [
      "\n",
      " Confusion matrix\n",
      "[[128  23]\n",
      " [ 45  58]]\n",
      "\n",
      " Accuracy of the classifier is 0.7322834645669292\n",
      "\n",
      " The value of Precision 0.7160493827160493\n",
      "\n",
      " The value of Recall 0.5631067961165048\n",
      "Predicted Value for individual Test Data: [1]\n"
     ]
    }
   ],
   "source": [
    "#printing Confusion matrix, accuracy, Precision and Recall\n",
    "print('\\n Confusion matrix')\n",
    "print(metrics.confusion_matrix(ytest,predicted))\n",
    "print('\\n Accuracy of the classifier is',metrics.accuracy_score(ytest,predicted))\n",
    "print('\\n The value of Precision', metrics.precision_score(ytest,predicted))\n",
    "print('\\n The value of Recall', metrics.recall_score(ytest,predicted))\n",
    "print(\"Predicted Value for individual Test Data:\", predictTestData)"
   ]
  },
  {
   "cell_type": "code",
   "execution_count": null,
   "id": "429c7cbb",
   "metadata": {},
   "outputs": [],
   "source": []
  }
 ],
 "metadata": {
  "kernelspec": {
   "display_name": "Python 3 (ipykernel)",
   "language": "python",
   "name": "python3"
  },
  "language_info": {
   "codemirror_mode": {
    "name": "ipython",
    "version": 3
   },
   "file_extension": ".py",
   "mimetype": "text/x-python",
   "name": "python",
   "nbconvert_exporter": "python",
   "pygments_lexer": "ipython3",
   "version": "3.11.4"
  }
 },
 "nbformat": 4,
 "nbformat_minor": 5
}
