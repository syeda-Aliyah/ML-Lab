{
 "cells": [
  {
   "cell_type": "markdown",
   "id": "00a7a74f",
   "metadata": {},
   "source": [
    "candidate Elemination Methord Algorithm"
   ]
  },
  {
   "cell_type": "code",
   "execution_count": 1,
   "id": "e29e1baf",
   "metadata": {},
   "outputs": [
    {
     "name": "stdout",
     "output_type": "stream",
     "text": [
      "[['sunny' 'warm' 'normal' 'strong' 'warm' 'same']\n",
      " ['sunny' 'warm' 'high' 'strong' 'warm' 'same']\n",
      " ['Rainy' 'cold' 'high' 'strong' 'warm' 'change']\n",
      " ['sunny' 'warm' 'high' 'strong' 'cold' 'change']]\n",
      "['yes' 'yes' 'no' 'yes']\n"
     ]
    }
   ],
   "source": [
    "#Candiddate elemination Algorithm\n",
    "import pandas as pd\n",
    "import numpy as np\n",
    "data= pd.read_csv('enjoysport.csv')\n",
    "concepts= np.array(data.iloc[:,0:-1])\n",
    "print(concepts)\n",
    "target= np.array(data.iloc[:,-1])\n",
    "print(target)"
   ]
  },
  {
   "cell_type": "code",
   "execution_count": 7,
   "id": "c40e4123",
   "metadata": {},
   "outputs": [],
   "source": [
    "#learning methord/class\n",
    "def learn(concepts, target):\n",
    "    specific_h= concepts[0].copy()\n",
    "    print(\"Initialization of specific_h and general_h\")\n",
    "    print(specific_h)\n",
    "    general_h =[[\"?\" for i in range(len(specific_h))] for i in range (len(specific_h))]\n",
    "    print(general_h)\n",
    "    \n",
    "    for i, h in enumerate(concepts):\n",
    "        print(\"For loop starts\")\n",
    "        if target[i] == 'yes':\n",
    "            print(\"If instance is positive\")\n",
    "            for x in range(len(specific_h)):\n",
    "                if h[x] != specific_h[x]:\n",
    "                    specific_h[x]= '?'\n",
    "                    general_h[x][x]= '?'\n",
    "                \n",
    "        if target[i]== 'no':\n",
    "            print(\"If instance is negative\")\n",
    "            for x in range(len(specific_h)):\n",
    "                if h[x] != specific_h[x]:\n",
    "                    general_h[x][x]= specific_h[x]\n",
    "                else:\n",
    "                    general_h[x][x]= '?'\n",
    "        print(\"Steps of Candidate Elimination Algorithm: \", i+1)\n",
    "        print(specific_h)\n",
    "        print(general_h)\n",
    "        print('\\n', '\\n')\n",
    "    \n",
    "        indices= [i for i, val in enumerate(general_h) if val==['?', '?', '?', '?', '?', '?']]\n",
    "        for i in indices:\n",
    "            general_h.remove(['?', '?', '?', '?', '?', '?'])\n",
    "            return specific_h, general_h"
   ]
  },
  {
   "cell_type": "code",
   "execution_count": 8,
   "id": "b121263d",
   "metadata": {},
   "outputs": [
    {
     "name": "stdout",
     "output_type": "stream",
     "text": [
      "Initialization of specific_h and general_h\n",
      "['sunny' 'warm' 'normal' 'strong' 'warm' 'same']\n",
      "[['?', '?', '?', '?', '?', '?'], ['?', '?', '?', '?', '?', '?'], ['?', '?', '?', '?', '?', '?'], ['?', '?', '?', '?', '?', '?'], ['?', '?', '?', '?', '?', '?'], ['?', '?', '?', '?', '?', '?']]\n",
      "For loop starts\n",
      "If instance is positive\n",
      "Steps of Candidate Elimination Algorithm:  1\n",
      "['sunny' 'warm' 'normal' 'strong' 'warm' 'same']\n",
      "[['?', '?', '?', '?', '?', '?'], ['?', '?', '?', '?', '?', '?'], ['?', '?', '?', '?', '?', '?'], ['?', '?', '?', '?', '?', '?'], ['?', '?', '?', '?', '?', '?'], ['?', '?', '?', '?', '?', '?']]\n",
      "\n",
      " \n",
      "\n",
      "Final Specific_h:  ['sunny' 'warm' 'normal' 'strong' 'warm' 'same']\n",
      "Final General_h:  [['?', '?', '?', '?', '?', '?'], ['?', '?', '?', '?', '?', '?'], ['?', '?', '?', '?', '?', '?'], ['?', '?', '?', '?', '?', '?'], ['?', '?', '?', '?', '?', '?']]\n"
     ]
    }
   ],
   "source": [
    "s_final, g_final= learn(concepts, target)\n",
    "print(\"Final Specific_h: \", s_final)\n",
    "print(\"Final General_h: \", g_final)"
   ]
  },
  {
   "cell_type": "code",
   "execution_count": null,
   "id": "5a32bf33",
   "metadata": {},
   "outputs": [],
   "source": []
  }
 ],
 "metadata": {
  "kernelspec": {
   "display_name": "Python 3 (ipykernel)",
   "language": "python",
   "name": "python3"
  },
  "language_info": {
   "codemirror_mode": {
    "name": "ipython",
    "version": 3
   },
   "file_extension": ".py",
   "mimetype": "text/x-python",
   "name": "python",
   "nbconvert_exporter": "python",
   "pygments_lexer": "ipython3",
   "version": "3.11.4"
  }
 },
 "nbformat": 4,
 "nbformat_minor": 5
}
