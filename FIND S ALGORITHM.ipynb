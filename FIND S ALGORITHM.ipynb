{
 "cells": [
  {
   "cell_type": "markdown",
   "id": "d474b919",
   "metadata": {},
   "source": [
    "FIND S ALGORITHM"
   ]
  },
  {
   "cell_type": "code",
   "execution_count": 1,
   "id": "b3a251af",
   "metadata": {},
   "outputs": [],
   "source": [
    "import pandas as pd\n",
    "import numpy as np"
   ]
  },
  {
   "cell_type": "code",
   "execution_count": 2,
   "id": "e072a9b4",
   "metadata": {},
   "outputs": [],
   "source": [
    "data = pd.read_csv('enjoysport.csv')\n",
    "concepts = np.array(data)[:,:-1]\n",
    "target = np.array(data)[:,-1]"
   ]
  },
  {
   "cell_type": "code",
   "execution_count": 3,
   "id": "dbf212b0",
   "metadata": {},
   "outputs": [],
   "source": [
    "#training the algorithm\n",
    "def train(con,tar):\n",
    "    for i,val in enumerate(tar):\n",
    "        if val=='yes':\n",
    "            specific_h = con[i].copy()\n",
    "            break\n",
    "        for i, val in enumerate(con):\n",
    "            if tar[i]=='yes':\n",
    "                for x in range(len(specific_h)):\n",
    "                    if val[x] != specific_h[x]:\n",
    "                        specific_h[x] = '?'\n",
    "                    else:\n",
    "                        pass\n",
    "                    \n",
    "    return specific_h"
   ]
  },
  {
   "cell_type": "code",
   "execution_count": 4,
   "id": "67304c65",
   "metadata": {},
   "outputs": [
    {
     "name": "stdout",
     "output_type": "stream",
     "text": [
      "['sunny' 'warm' 'normal' 'strong' 'warm' 'same']\n"
     ]
    }
   ],
   "source": [
    "print(train(concepts,target))"
   ]
  },
  {
   "cell_type": "code",
   "execution_count": null,
   "id": "f8a02d61",
   "metadata": {},
   "outputs": [],
   "source": []
  }
 ],
 "metadata": {
  "kernelspec": {
   "display_name": "Python 3 (ipykernel)",
   "language": "python",
   "name": "python3"
  },
  "language_info": {
   "codemirror_mode": {
    "name": "ipython",
    "version": 3
   },
   "file_extension": ".py",
   "mimetype": "text/x-python",
   "name": "python",
   "nbconvert_exporter": "python",
   "pygments_lexer": "ipython3",
   "version": "3.11.4"
  }
 },
 "nbformat": 4,
 "nbformat_minor": 5
}
