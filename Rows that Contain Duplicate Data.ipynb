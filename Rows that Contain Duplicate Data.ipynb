{
 "cells": [
  {
   "cell_type": "markdown",
   "id": "8a6feb92",
   "metadata": {},
   "source": [
    "Rows that Contain Duplicate Data"
   ]
  },
  {
   "cell_type": "code",
   "execution_count": 1,
   "id": "9d71caca",
   "metadata": {},
   "outputs": [],
   "source": [
    "from numpy import unique\n",
    "from pandas import read_csv\n",
    "import pandas as pd"
   ]
  },
  {
   "cell_type": "code",
   "execution_count": 2,
   "id": "b553b371",
   "metadata": {},
   "outputs": [
    {
     "name": "stdout",
     "output_type": "stream",
     "text": [
      "False\n",
      "Empty DataFrame\n",
      "Columns: [0, 1, 2, 3, 4]\n",
      "Index: []\n",
      "(401, 5)\n",
      "(401, 5)\n"
     ]
    }
   ],
   "source": [
    "# load the dataset\n",
    "data = pd.read_csv('5user_data.csv', header=None)\n",
    "# calculate duplicates\n",
    "dups = data.duplicated()\n",
    "# report if there are any duplicates\n",
    "print(dups.any())\n",
    "# list all duplicate rows\n",
    "print(data[dups])\n",
    "# shape before deleting rows of duplicate data \n",
    "print(data.shape)\n",
    "# delete duplicate rows from the dataset\n",
    "data.drop_duplicates(inplace=True)\n",
    "# shape after deleting rows of duplicate data\n",
    "print(data.shape)"
   ]
  },
  {
   "cell_type": "code",
   "execution_count": null,
   "id": "fd053205",
   "metadata": {},
   "outputs": [],
   "source": []
  }
 ],
 "metadata": {
  "kernelspec": {
   "display_name": "Python 3 (ipykernel)",
   "language": "python",
   "name": "python3"
  },
  "language_info": {
   "codemirror_mode": {
    "name": "ipython",
    "version": 3
   },
   "file_extension": ".py",
   "mimetype": "text/x-python",
   "name": "python",
   "nbconvert_exporter": "python",
   "pygments_lexer": "ipython3",
   "version": "3.11.4"
  }
 },
 "nbformat": 4,
 "nbformat_minor": 5
}
