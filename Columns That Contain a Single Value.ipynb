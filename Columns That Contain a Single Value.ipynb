{
 "cells": [
  {
   "cell_type": "markdown",
   "id": "0b510f1b",
   "metadata": {},
   "source": [
    "Columns That Contain a Single Value"
   ]
  },
  {
   "cell_type": "code",
   "execution_count": 1,
   "id": "73dd1f52",
   "metadata": {},
   "outputs": [],
   "source": [
    "import pandas as pd\n",
    "from numpy import unique\n",
    "from pandas import read_csv"
   ]
  },
  {
   "cell_type": "code",
   "execution_count": 2,
   "id": "f1e84023",
   "metadata": {},
   "outputs": [],
   "source": [
    "# summarize the number of unique values for each column using numpy\n",
    "# load the dataset\n",
    "data = pd.read_csv('5user_data.csv', header=None)"
   ]
  },
  {
   "cell_type": "code",
   "execution_count": 3,
   "id": "185d7729",
   "metadata": {},
   "outputs": [
    {
     "name": "stdout",
     "output_type": "stream",
     "text": [
      "0    401\n",
      "1      3\n",
      "2     44\n",
      "3    118\n",
      "4      3\n",
      "dtype: int64\n",
      "(401, 5)\n"
     ]
    }
   ],
   "source": [
    "# summarize the number of unique values in each column\n",
    "print(data.nunique())\n",
    "# delete columns with a single unique value\n",
    "# define the location of the dataset\n",
    "print(data.shape)\n",
    "# get number of unique values for each column\n",
    "counts = data.nunique()"
   ]
  },
  {
   "cell_type": "code",
   "execution_count": 4,
   "id": "677fbb81",
   "metadata": {},
   "outputs": [
    {
     "name": "stdout",
     "output_type": "stream",
     "text": [
      "[]\n",
      "(401, 5)\n"
     ]
    }
   ],
   "source": [
    "# record columns to delete\n",
    "to_del = [i for i,v in enumerate(counts) if v == 1]\n",
    "print(to_del)\n",
    "# drop useless columns\n",
    "data.drop(to_del, axis=1, inplace=True)\n",
    "print(data.shape)"
   ]
  },
  {
   "cell_type": "code",
   "execution_count": null,
   "id": "6d041a87",
   "metadata": {},
   "outputs": [],
   "source": []
  }
 ],
 "metadata": {
  "kernelspec": {
   "display_name": "Python 3 (ipykernel)",
   "language": "python",
   "name": "python3"
  },
  "language_info": {
   "codemirror_mode": {
    "name": "ipython",
    "version": 3
   },
   "file_extension": ".py",
   "mimetype": "text/x-python",
   "name": "python",
   "nbconvert_exporter": "python",
   "pygments_lexer": "ipython3",
   "version": "3.11.4"
  }
 },
 "nbformat": 4,
 "nbformat_minor": 5
}
